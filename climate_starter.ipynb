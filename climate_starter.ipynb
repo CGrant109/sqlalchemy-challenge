{
 "cells": [
  {
   "cell_type": "code",
   "execution_count": null,
   "metadata": {},
   "outputs": [],
   "source": [
    "%matplotlib inline\n",
    "from matplotlib import style\n",
    "style.use('fivethirtyeight')\n",
    "import matplotlib.pyplot as plt"
   ]
  },
  {
   "cell_type": "code",
   "execution_count": null,
   "metadata": {},
   "outputs": [],
   "source": [
    "import numpy as np\n",
    "import pandas as pd\n",
    "import datetime as dt"
   ]
  },
  {
   "cell_type": "markdown",
   "metadata": {},
   "source": [
    "# Reflect Tables into SQLAlchemy ORM"
   ]
  },
  {
   "cell_type": "code",
   "execution_count": null,
   "metadata": {},
   "outputs": [],
   "source": [
    "# Python SQL toolkit and Object Relational Mapper\n",
    "import sqlalchemy\n",
    "from sqlalchemy.ext.automap import automap_base\n",
    "from sqlalchemy.orm import Session\n",
    "from sqlalchemy import create_engine, func\n",
    "from sqlalchemy import inspect"
   ]
  },
  {
   "cell_type": "code",
   "execution_count": null,
   "metadata": {},
   "outputs": [],
   "source": [
    "# create engine to hawaii.sqlite\n",
    "engine = create_engine(\"sqlite:///hawaii.sqlite\")"
   ]
  },
  {
   "cell_type": "code",
   "execution_count": null,
   "metadata": {},
   "outputs": [],
   "source": [
    "# reflect an existing database into a new model\n",
    "Base = automap_base()\n",
    "\n",
    "\n",
    "# reflect the tables\n",
    "Base.prepare(engine, reflect=True)"
   ]
  },
  {
   "cell_type": "code",
   "execution_count": null,
   "metadata": {},
   "outputs": [],
   "source": [
    "# View all of the classes that automap found\n",
    "Base.classes.keys()"
   ]
  },
  {
   "cell_type": "code",
   "execution_count": null,
   "metadata": {},
   "outputs": [],
   "source": [
    "# Save references to each table\n",
    "Measurement = Base.classes.measurement\n",
    "Station = Base.classes.station"
   ]
  },
  {
   "cell_type": "code",
   "execution_count": null,
   "metadata": {},
   "outputs": [],
   "source": [
    "# Create our session (link) from Python to the DB\n",
    "session = Session(engine)"
   ]
  },
  {
   "cell_type": "markdown",
   "metadata": {},
   "source": [
    "# Exploratory Precipitation Analysis"
   ]
  },
  {
   "cell_type": "code",
   "execution_count": null,
   "metadata": {},
   "outputs": [],
   "source": [
    "# Find the most recent date in the data set.\n",
    "most_recent = session.query(Measurement.date).order_by(Measurement.date.desc()).first()\n",
    "most_recent"
   ]
  },
  {
   "cell_type": "code",
   "execution_count": null,
   "metadata": {},
   "outputs": [],
   "source": [
    "# Design a query to retrieve the last 12 months of precipitation data and plot the results. \n",
    "# Starting from the most recent data point in the database. \n",
    "# Calculate the date one year from the last date in data set.\n",
    "# Perform a query to retrieve the data and precipitation scores\n",
    "# Save the query results as a Pandas DataFrame and set the index to the date column\n",
    "# Sort the dataframe by date\n",
    "\n",
    "last_date = dt.datetime.strptime(most_recent[0], '%Y-%m-%d')\n",
    "# Calculate the date one year from the last date in data set.\n",
    "querydate = dt.date(last_date.year -1, last_date.month, last_date.day)\n",
    "querydate\n",
    "\n",
    "# Perform a query to retrieve the data and precipitation scores\n",
    "sel = [Measurement.date,Measurement.prcp]\n",
    "queryresult = session.query(*sel).filter(Measurement.date >= querydate).all()\n",
    "\n",
    "\n",
    "# Perform a query to retrieve the data and precipitation scores\n",
    "precipitation = pd.DataFrame(queryresult, columns=['Date','Precipitation'])\n",
    "precipitation = precipitation.dropna(how='any')\n",
    "precipitation = precipitation.sort_values([\"Date\"], ascending=True)\n",
    "\n",
    "# Save the query results as a Pandas DataFrame and set the index to the date column\n",
    "precipitation = precipitation.set_index(\"Date\")\n",
    "precipitation.head()"
   ]
  },
  {
   "cell_type": "code",
   "execution_count": null,
   "metadata": {},
   "outputs": [],
   "source": [
    "# Using Pandas with Matplotlib to plot the data\n",
    "xx = precipitation.index.tolist()\n",
    "yy = precipitation['Precipitation'].tolist()\n",
    "\n",
    "plt.figure(figsize=(10,7))\n",
    "plt.bar(xx,yy,width = 6 ,color='brown', alpha=0.5, align=\"center\",label='Precipitation')\n",
    "plt.tick_params(\n",
    "    # changes apply to the x-axis   \n",
    "    axis='x',\n",
    "    # both major and minor ticks are affected    \n",
    "    which='both', \n",
    "    # ticks along the bottom edge are off   \n",
    "    bottom=False,\n",
    "    # ticks along the top edge are off\n",
    "    top=False, \n",
    "    # labels along the bottom edge are off\n",
    "    labelbottom=False)\n",
    "major_ticks = np.arange(0,400,80)\n",
    "plt.xticks(major_ticks)\n",
    "\n",
    "plt.title(f\"Precipitation from {querydate} to {most_recent[0]}\")\n",
    "plt.xlabel(\"Date\")\n",
    "plt.ylabel(\"Precipitation\")\n",
    "plt.grid(which='major', axis='both', linestyle='-')\n",
    "plt.legend()\n",
    "plt.show()"
   ]
  },
  {
   "cell_type": "code",
   "execution_count": null,
   "metadata": {},
   "outputs": [],
   "source": [
    "# Use Pandas to calcualte the summary statistics for the precipitation data\n",
    "precipitation.describe()"
   ]
  },
  {
   "cell_type": "markdown",
   "metadata": {},
   "source": [
    "# Exploratory Station Analysis"
   ]
  },
  {
   "cell_type": "code",
   "execution_count": null,
   "metadata": {},
   "outputs": [],
   "source": [
    "# Design a query to calculate the total number stations in the dataset\n",
    "session.query(Station.id).count()"
   ]
  },
  {
   "cell_type": "code",
   "execution_count": null,
   "metadata": {},
   "outputs": [],
   "source": [
    "# Design a query to find the most active stations (i.e. what stations have the most rows?)\n",
    "# List the stations and the counts in descending order.\n",
    "sel = [Measurement.station,func.count(Measurement.id)]\n",
    "active_stations = session.query(*sel).\\\n",
    "    group_by(Measurement.station).\\\n",
    "    order_by(func.count(Measurement.id).desc()).all()\n",
    "active_stations"
   ]
  },
  {
   "cell_type": "code",
   "execution_count": null,
   "metadata": {},
   "outputs": [],
   "source": [
    "# Using the most active station id from the previous query, calculate the lowest, highest, and average temperature.\n",
    "sel = [func.min(Measurement.tobs),func.max(Measurement.tobs),func.avg(Measurement.tobs)]\n",
    "station_temps = session.query(*sel).\\\n",
    "    group_by(Measurement.station).\\\n",
    "    order_by(func.count(Measurement.id).desc()).first()\n",
    "station_temps"
   ]
  },
  {
   "cell_type": "code",
   "execution_count": null,
   "metadata": {},
   "outputs": [],
   "source": [
    "# Using the most active station id\n",
    "# Query the last 12 months of temperature observation data for this station and plot the results as a histogram\n",
    "station_highest_obs = active_stations[0][0]\n",
    "\n",
    "results = session.query(Measurement.date, Measurement.tobs).\\\n",
    "                        filter(Measurement.date >= \"2016-08-24\").\\\n",
    "                        filter(Measurement.date <= \"2017-08-23\").\\\n",
    "                        filter(Measurement.station == station_highest_obs).all()\n",
    "\n",
    "# convert to dataframe\n",
    "results_df = pd.DataFrame(results)\n",
    "\n",
    "# historgram \n",
    "results_df.plot.hist(bins=12)"
   ]
  },
  {
   "cell_type": "code",
   "execution_count": null,
   "metadata": {},
   "outputs": [],
   "source": [
    "# Using calc_temps will accept start date and end date in the format '%Y-%m-%d' \n",
    "# Provides minimum, average, and maximum temperatures for that range of dates\n",
    "def calc_temps(start_date, end_date):\n",
    "    return session.query(func.min(Measurement.tobs), func.avg(Measurement.tobs), func.max(Measurement.tobs)).\\\n",
    "        filter(Measurement.date >= start_date).filter(Measurement.date <= end_date).all()\n",
    "\n",
    "\n",
    "print(calc_temps('2012-02-28', '2012-03-05'))"
   ]
  },
  {
   "cell_type": "code",
   "execution_count": null,
   "metadata": {},
   "outputs": [],
   "source": [
    "# Using function `calc_temps` to calculate the tmin, tavg, and tmax \n",
    "# Using the previous year's data for those same dates.\n",
    "startdate = '2016-02-28'\n",
    "enddate = '2016-03-05'\n",
    "tempresult = calc_temps(startdate,enddate)[0]\n",
    "tempresult"
   ]
  },
  {
   "cell_type": "code",
   "execution_count": null,
   "metadata": {
    "scrolled": true
   },
   "outputs": [],
   "source": [
    "# Plot the results from your previous query as a bar chart. \n",
    "#\"Trip Avg Temp\" as your Title\n",
    "# Using average temperature for the y value\n",
    "# Using tmax-tmin value as the y error bar, yerr\n",
    "x_pos = [0]\n",
    "y_pos = [tempresult[1]]\n",
    "error = [(tempresult[2] - tempresult[0])]\n",
    "\n",
    "w = 3\n",
    "h = 5\n",
    "d = 70\n",
    "plt.figure(figsize=(w, h), dpi=d)\n",
    "plt.bar(x_pos,y_pos,color='brown', yerr=error)\n",
    "plt.xlim(-0.75,0.75)\n",
    "plt.title(\"Trip Avgerage Temperature\")\n",
    "plt.ylabel(\"Temperature (F)\")\n",
    "plt.ylim(0, 100)\n",
    "plt.tick_params(axis='x',which='both',bottom=False,top=False,labelbottom=False)\n",
    "plt.grid(which='major', axis='x', linestyle='')\n",
    "plt.grid(which='major', axis='y', linestyle='-')\n",
    "plt.show()"
   ]
  },
  {
   "cell_type": "code",
   "execution_count": null,
   "metadata": {},
   "outputs": [],
   "source": [
    "# Calculate the total amount of rainfall per weather station for your trip dates using the previous year's matching dates.\n",
    "# Sorted in descending order by precipitation amount \n",
    "#lists the station, name, latitude, longitude, and elevation\n",
    "\n",
    "startdate = '2016-01-01'\n",
    "enddate = '2016-01-07'\n",
    "\n",
    "sel = [Measurement.station,func.sum(Measurement.prcp)]\n",
    "queryresult = session.query(*sel).\\\n",
    "    group_by(Measurement.station).\\\n",
    "    filter(Measurement.date >= startdate).\\\n",
    "    filter(Measurement.date <= enddate).all()\n",
    "#     order_by(func.sum(Measurement.prcp).desc()).all()\n",
    "stations_prec = pd.DataFrame(queryresult,columns=['Station','PrcpSum'])\n",
    "\n",
    "sel = [Station.station,Station.name,Station.latitude,Station.longitude,Station.elevation]\n",
    "queryresult = session.query(*sel).all()\n",
    "stations_desc = pd.DataFrame(queryresult, columns=['Station','Name','Latitude','Longitude','Elevation'])\n",
    "\n",
    "stations = pd.merge(stations_desc,stations_prec, on=\"Station\", how=\"left\")\n",
    "stations = stations.sort_values(\"PrcpSum\",ascending=False)\n",
    "stations = stations.fillna(value = {'PrcpSum':0})\n",
    "stations = stations.reset_index(drop=True)\n",
    "stations"
   ]
  },
  {
   "cell_type": "markdown",
   "metadata": {},
   "source": [
    "# Close session"
   ]
  },
  {
   "cell_type": "code",
   "execution_count": null,
   "metadata": {},
   "outputs": [],
   "source": [
    "# Close Session\n",
    "session.close()"
   ]
  },
  {
   "cell_type": "code",
   "execution_count": null,
   "metadata": {},
   "outputs": [],
   "source": []
  }
 ],
 "metadata": {
  "anaconda-cloud": {},
  "kernel_info": {
   "name": "python3"
  },
  "kernelspec": {
   "display_name": "Python 3 (ipykernel)",
   "language": "python",
   "name": "python3"
  },
  "language_info": {
   "codemirror_mode": {
    "name": "ipython",
    "version": 3
   },
   "file_extension": ".py",
   "mimetype": "text/x-python",
   "name": "python",
   "nbconvert_exporter": "python",
   "pygments_lexer": "ipython3",
   "version": "3.8.12"
  },
  "nteract": {
   "version": "0.12.3"
  },
  "varInspector": {
   "cols": {
    "lenName": 16,
    "lenType": 16,
    "lenVar": 40
   },
   "kernels_config": {
    "python": {
     "delete_cmd_postfix": "",
     "delete_cmd_prefix": "del ",
     "library": "var_list.py",
     "varRefreshCmd": "print(var_dic_list())"
    },
    "r": {
     "delete_cmd_postfix": ") ",
     "delete_cmd_prefix": "rm(",
     "library": "var_list.r",
     "varRefreshCmd": "cat(var_dic_list()) "
    }
   },
   "types_to_exclude": [
    "module",
    "function",
    "builtin_function_or_method",
    "instance",
    "_Feature"
   ],
   "window_display": false
  }
 },
 "nbformat": 4,
 "nbformat_minor": 2
}
